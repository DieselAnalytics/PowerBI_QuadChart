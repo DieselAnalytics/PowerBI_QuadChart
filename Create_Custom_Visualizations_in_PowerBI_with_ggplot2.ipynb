{
 "cells": [
  {
   "cell_type": "markdown",
   "metadata": {},
   "source": [
    "![title](./Pics/QLCon2018Banner.JPG)"
   ]
  },
  {
   "cell_type": "markdown",
   "metadata": {},
   "source": [
    "# Creating Custom Visualizations in Power BI using ggplot2\n",
    "\n",
    "### What is ggplot2\n",
    "\n",
    "The ggplot2 package is a R package used to create custom visualizations. It is based on the *layered grammar of graphics*.\n",
    "\n",
    "- **Aesthetic (aes)**: describes how the variables (columns) in your data are mapped to aesthetic attributes such as position, size, color, ect. The mapping can be done in the ggplot function or in the geom. If done in the ggplot function it will be available to all layers if done in the geom it will only be available for that layer.  \n",
    "    \n",
    "- **Layers**: geometric elements and statistical transformation.\n",
    "    \n",
    "- **Scales**: maps values in the data space to values in an aesthetic space\n",
    "\n",
    "- **Themes**: Controls the non-data elements of your chart. Examples include things like chart title, background colors, font size, and ect.\n",
    "\n",
    "First we need to load the R packages we will use to build the visualization. We will use the following 5 packages to build our visualization:\n",
    "\n",
    "- **tidyverse**:  The tidyverse package is a combination of packages that shares the same API design and they are designed to make doing data science easier. We will be using the readr package to read in data, the dplyr package to reshape the data, and the ggplot2 package to create the visualization.\n",
    "\n",
    "- **ggrepel**:  Sometimes when you plot data your data labels overlap. The ggrepel package reposition overlapping labels so that they are easier to read.\n",
    "\n",
    "- **ggthemes**:  This package contains themes that can be used to format your non-data elements based on pre-defined styles\n",
    "\n",
    "- **scales**: This package has multiple uses but we will be using it to rescale our data using the *rescale* function\n",
    "\n",
    "- **stringi**: The stringi package contains many functions that you can use for string manipulation"
   ]
  },
  {
   "cell_type": "code",
   "execution_count": null,
   "metadata": {},
   "outputs": [],
   "source": [
    "library(tidyverse)\n",
    "library(ggrepel)\n",
    "library(ggthemes)\n",
    "library(scales)\n",
    "library(stringi)"
   ]
  },
  {
   "cell_type": "markdown",
   "metadata": {},
   "source": [
    "The code below reads in our data from a flat file to a R data frame."
   ]
  },
  {
   "cell_type": "code",
   "execution_count": null,
   "metadata": {},
   "outputs": [],
   "source": [
    "url <- \"https://raw.githubusercontent.com/DieselAnalytics/PASS2018_PowerBI_GGPLOT2/master/Data/dataset.csv\"\n",
    "dataset <- read_csv(url)\n",
    "head(dataset)"
   ]
  },
  {
   "cell_type": "markdown",
   "metadata": {},
   "source": [
    "We are developing a quad chart for the NFL prospects based on the bench press and 40 yard dash. In order to do so the players in the quard chart must have bench press and 40 yard information. That information also needs to be on the same scale. The code below uses the *dplyr* package from *tidyverse* to reshape our data and the *scales* package to rescale our data."
   ]
  },
  {
   "cell_type": "code",
   "execution_count": null,
   "metadata": {},
   "outputs": [],
   "source": [
    "graph_data <-\n",
    "    dataset %>%\n",
    "    filter(`40YD` != 0 & BenchReps != 0) %>%\n",
    "    mutate(\n",
    "        Scaled.40YD = \n",
    "            round(rescale(`40YD` * -1, to = c(-10, 10)), 1)\n",
    "        ,Scaled.BenchReps = \n",
    "            round(rescale(BenchReps, to = c(-10, 10)), 1)\n",
    "    )\n",
    "head(graph_data)"
   ]
  },
  {
   "cell_type": "markdown",
   "metadata": {},
   "source": [
    "When we pass our data to R from Power BI our data needs to be in the proper shape for our visualization. When need to perform a test to make sure that is the case and handle situations when it is not. Below is a template that I use to make sure my data is in the correct shape."
   ]
  },
  {
   "cell_type": "markdown",
   "metadata": {},
   "source": [
    "### Logic template for a custom R visual for Power BI\n",
    "\n",
    "\n",
    "        if (< dataset test code >) {\n",
    "\n",
    "            # <Put code to generate graph here>\n",
    "    \n",
    "        } else {\n",
    "    \n",
    "            p <- ggplot(dataset, aes(x = BenchReps, y = `40YD`)) +\n",
    "                 geom_blank() +\n",
    "                 scale_x_continuous(\n",
    "                      labels = NULL\n",
    "                    , breaks = NULL\n",
    "                 ) +\n",
    "                 scale_y_continuous(\n",
    "                      labels = NULL\n",
    "                    , breaks = NULL\n",
    "                 ) +\n",
    "                 labs(x = NULL, y = NULL) +\n",
    "                 theme_classic()\n",
    "            p\n",
    "        }"
   ]
  },
  {
   "cell_type": "markdown",
   "metadata": {},
   "source": [
    "We know that our data is in the correct shape so now we can start building our visualization. We will do so in the same manner that Bob Ross used to do when he did his paintings. We will start with the chart then add layers until we get to the chart that we want."
   ]
  },
  {
   "cell_type": "markdown",
   "metadata": {},
   "source": [
    "![title](./Pics/Bob_at_Easel.jpg)"
   ]
  },
  {
   "cell_type": "code",
   "execution_count": null,
   "metadata": {},
   "outputs": [],
   "source": [
    "p <- ggplot(graph_data, aes(x = Scaled.BenchReps, y = Scaled.40YD, col = Position)) +\n",
    "     geom_point() +\n",
    "     geom_label_repel(aes(label = Player), size = 4, show.legend = FALSE) +\n",
    "     geom_hline(yintercept = 0) +\n",
    "     geom_vline(xintercept = 0) + \n",
    "     labs(\n",
    "         title = \"My Combine Quad Chart\"\n",
    "     )\n",
    "p"
   ]
  },
  {
   "cell_type": "markdown",
   "metadata": {},
   "source": [
    "The *bquote* function in R allows you to combine strings with mathematical function. Below is a hack that I used to append the arrows to the axis titles."
   ]
  },
  {
   "cell_type": "code",
   "execution_count": null,
   "metadata": {},
   "outputs": [],
   "source": [
    "p <- p +\n",
    "     xlab(bquote(\"Strength\" ~ symbol('\\256'))) +\n",
    "     ylab(bquote(\"Speed\" ~ symbol('\\256')))\n",
    "p"
   ]
  },
  {
   "cell_type": "markdown",
   "metadata": {},
   "source": [
    "Code below labels our quadrants"
   ]
  },
  {
   "cell_type": "code",
   "execution_count": null,
   "metadata": {},
   "outputs": [],
   "source": [
    "p <- p +\n",
    "     # quad labels\n",
    "     annotate(\"text\", x = -5, y = -11, label = \"Average\", alpha = 0.2, size = 6) +\n",
    "     annotate(\"text\", x = -5, y = 11, label = \"Fast\", alpha = 0.2, size = 6) +\n",
    "     annotate(\"text\", x = 5, y = -11, label = \"Strong\", alpha = 0.2, size = 6) +\n",
    "     annotate(\"text\", x = 5, y = 11, label = \"Beast Mode\", alpha = 0.2, size = 6)\n",
    "p"
   ]
  },
  {
   "cell_type": "markdown",
   "metadata": {},
   "source": [
    "The code below draws a rectangular border around our labels"
   ]
  },
  {
   "cell_type": "code",
   "execution_count": null,
   "metadata": {},
   "outputs": [],
   "source": [
    "p <- p +\n",
    "     annotate(\"rect\", xmin = -3.5, xmax = -6.5, ymin = -11.5, ymax = -10.5, alpha = .2) +\n",
    "     annotate(\"rect\", xmin = -3.5, xmax = -6.5, ymin = 10.5, ymax = 11.5, alpha = .2) +\n",
    "     annotate(\"rect\", xmin = 3.5, xmax = 6.5, ymin = -11.5, ymax = -10.5, alpha = .2) +\n",
    "     annotate(\"rect\", xmin = 3.5, xmax = 6.5, ymin = 10.5, ymax = 11.5, alpha = .2)\n",
    "p"
   ]
  },
  {
   "cell_type": "markdown",
   "metadata": {},
   "source": [
    "We apply formatting to our chart based on the principals developed by the renowned data visualization expert, [Edward Tufte](https://bit.ly/2s0WGc9)."
   ]
  },
  {
   "cell_type": "code",
   "execution_count": null,
   "metadata": {},
   "outputs": [],
   "source": [
    "p <- p +\n",
    "     theme_tufte()\n",
    "p"
   ]
  },
  {
   "cell_type": "markdown",
   "metadata": {},
   "source": [
    "We color quadrants 2 & 3"
   ]
  },
  {
   "cell_type": "code",
   "execution_count": null,
   "metadata": {},
   "outputs": [],
   "source": [
    "p <- p +\n",
    "     annotate(\"rect\", xmin = -Inf, xmax = 0.0, ymin = -Inf, ymax = 0, alpha = 0.1, fill = \"lightskyblue\") +\n",
    "     annotate(\"rect\", xmin = 0.0, xmax = Inf, ymin = 0.0, ymax = Inf, alpha = 0.1, fill = \"lightskyblue\")\n",
    "p"
   ]
  },
  {
   "cell_type": "markdown",
   "metadata": {},
   "source": [
    "We now have the basics of our graph built. Now we need to add so dynamic information to our graph to give the end user important information. We will add a dynamic title, dynamic subtitle, and a caption that will give the end user the source of our data set. Before we start building the dynamic elements let's take a look at our data set."
   ]
  },
  {
   "cell_type": "code",
   "execution_count": null,
   "metadata": {},
   "outputs": [],
   "source": [
    "head(dataset)"
   ]
  },
  {
   "cell_type": "markdown",
   "metadata": {},
   "source": [
    "Dynamically builds our chart title"
   ]
  },
  {
   "cell_type": "code",
   "execution_count": null,
   "metadata": {},
   "outputs": [],
   "source": [
    "selected_position <- unique(dataset$`Position Group`)\n",
    "selected_year <- unique(dataset$Year)\n",
    "chart.title <- paste(selected_year, \"Combine Quad Chart for\", selected_position, sep = \" \")\n",
    "chart.title"
   ]
  },
  {
   "cell_type": "markdown",
   "metadata": {},
   "source": [
    "Our dynamic subtitle will show up to 7 bullet points. The categories are:\n",
    "- Players that did not run the 40 yard dash\n",
    "- Players that did not perform the bench press\n",
    "- Players that did not perform the bench press and 40 yard dash\n",
    "- Players that did the best in the bench press\n",
    "- Players that did the worse in the bench press\n",
    "- Players that did the best in the 40 yard dash\n",
    "- Players that did the worse in the 40 yard dash\n",
    "\n",
    "Below is the code used to build the strings of the players that did not participate in the 40 yard dash, bench press, or both."
   ]
  },
  {
   "cell_type": "markdown",
   "metadata": {},
   "source": [
    "Subset the dataframe to only include the *Player* variable that did not run the 40 but did the bench press"
   ]
  },
  {
   "cell_type": "code",
   "execution_count": null,
   "metadata": {},
   "outputs": [],
   "source": [
    "No40YDSubtitleHaveAthletes <-\n",
    "    dataset$Player[which(dataset$`40YD` == 0 & dataset$BenchReps != 0)]\n",
    "No40YDSubtitleHaveAthletes"
   ]
  },
  {
   "cell_type": "markdown",
   "metadata": {},
   "source": [
    "Converts the variable fom above to a character vector"
   ]
  },
  {
   "cell_type": "code",
   "execution_count": null,
   "metadata": {},
   "outputs": [],
   "source": [
    "No40YDSubtitle <- \n",
    "    dataset$Player[which(dataset$`40YD` == 0 & dataset$BenchReps != 0)] %>%\n",
    "    as.character()\n",
    "No40YDSubtitle"
   ]
  },
  {
   "cell_type": "markdown",
   "metadata": {},
   "source": [
    "Converts the variable from above from a character vector to a string with each element separated by a *comma*"
   ]
  },
  {
   "cell_type": "code",
   "execution_count": null,
   "metadata": {},
   "outputs": [],
   "source": [
    "No40YDSubtitle <- \n",
    "    dataset$Player[which(dataset$`40YD` == 0 & dataset$BenchReps != 0)] %>%\n",
    "    as.character() %>%\n",
    "    paste(collapse = \", \")\n",
    "No40YDSubtitle"
   ]
  },
  {
   "cell_type": "markdown",
   "metadata": {},
   "source": [
    "Replace the last comma in the string with *\", and\"*"
   ]
  },
  {
   "cell_type": "code",
   "execution_count": null,
   "metadata": {},
   "outputs": [],
   "source": [
    "No40YDSubtitle <- \n",
    "    dataset$Player[which(dataset$`40YD` == 0 & dataset$BenchReps != 0)] %>%\n",
    "    as.character() %>%\n",
    "    paste(collapse = \", \") %>%\n",
    "    stri_replace_last_fixed(\", \", \", and \")\n",
    "No40YDSubtitle"
   ]
  },
  {
   "cell_type": "markdown",
   "metadata": {},
   "source": [
    "Use the paste0 function to append a \"- \" to the beginning of the string from the cell above"
   ]
  },
  {
   "cell_type": "code",
   "execution_count": null,
   "metadata": {},
   "outputs": [],
   "source": [
    "No40YDSubtitle <- \n",
    "    dataset$Player[which(dataset$`40YD` == 0 & dataset$BenchReps != 0)] %>%\n",
    "    as.character() %>%\n",
    "    paste(collapse = \", \") %>%\n",
    "    stri_replace_last_fixed(\", \", \", and \") %>%\n",
    "    paste0(\"- \", .,\" did not run the 40YD.\")\n",
    "No40YDSubtitle"
   ]
  },
  {
   "cell_type": "markdown",
   "metadata": {},
   "source": [
    "Passes the results from what was created in the cell above to the str_wrap function. The str_wrap function allows you to control the width of the string and also control the indentations from subsequent lines."
   ]
  },
  {
   "cell_type": "code",
   "execution_count": null,
   "metadata": {},
   "outputs": [],
   "source": [
    "No40YDSubtitle <- \n",
    "    dataset$Player[which(dataset$`40YD` == 0 & dataset$BenchReps != 0)] %>%\n",
    "    as.character() %>%\n",
    "    paste(collapse = \", \") %>%\n",
    "    stri_replace_last_fixed(\", \", \", and \") %>%\n",
    "    paste0(\"- \", .,\" did not run the 40YD.\") %>%\n",
    "    str_wrap(width = 70, exdent = 2)\n",
    "No40YDSubtitle"
   ]
  },
  {
   "cell_type": "markdown",
   "metadata": {},
   "source": [
    "Do the same for the other \"No\" categories and creates variables that have the counts for each category."
   ]
  },
  {
   "cell_type": "code",
   "execution_count": null,
   "metadata": {},
   "outputs": [],
   "source": [
    "No40YDSubtitleHaveAthletes <-\n",
    "    dataset$Player[which(dataset$`40YD` == 0 & dataset$BenchReps != 0)] %>%\n",
    "    length() %>%\n",
    "    {ifelse(. > 0, \"Y\", \"N\")}\n",
    "\n",
    "NoBenchPressSubtitle <- \n",
    "    dataset$Player[which(dataset$`40YD` != 0 & dataset$BenchReps == 0)] %>%\n",
    "    as.character() %>%\n",
    "    paste(collapse = \", \") %>%\n",
    "    stri_replace_last_fixed(\", \", \", and \") %>%\n",
    "    paste0(\"- \", .,\" did not participate in the benchpress.\") %>%\n",
    "    str_wrap(width = 70, exdent = 2)\n",
    "\n",
    "NoBenchPressSubtitleHaveAthletes <- \n",
    "    dataset$Player[which(dataset$`40YD` != 0 & dataset$BenchReps == 0)] %>%\n",
    "    length() %>%\n",
    "    {ifelse(. > 0, \"Y\", \"N\")}\n",
    "\n",
    "No40YDAndBenchPressSubtitle <- \n",
    "    dataset$Player[which(dataset$`40YD` == 0 & dataset$BenchReps == 0)] %>%\n",
    "    as.character() %>%\n",
    "    paste(collapse = \", \") %>%\n",
    "    stri_replace_last_fixed(\", \", \", and \") %>%\n",
    "    paste0(\"- \", .,\" did not participate in either the 40YD or in the benchpress.\") %>%\n",
    "    str_wrap(width = 70, exdent = 2)\n",
    "\n",
    "No40YDAndBenchPressSubtitleHaveAthletes <- \n",
    "    dataset$Player[which(dataset$`40YD` == 0 & dataset$BenchReps == 0)] %>%\n",
    "    length() %>%\n",
    "    {ifelse(. > 0, \"Y\", \"N\")}"
   ]
  },
  {
   "cell_type": "code",
   "execution_count": null,
   "metadata": {},
   "outputs": [],
   "source": [
    "No40YDSubtitle\n",
    "NoBenchPressSubtitle\n",
    "No40YDAndBenchPressSubtitle"
   ]
  },
  {
   "cell_type": "markdown",
   "metadata": {},
   "source": [
    "The code cells below builds the subtitles for best benchpress, worst bench press, best 40 yard dash, and worst 40 yard dash."
   ]
  },
  {
   "cell_type": "code",
   "execution_count": null,
   "metadata": {},
   "outputs": [],
   "source": [
    "BestBench <- max(dataset$BenchReps)\n",
    "\n",
    "BestBenchAthletes_cv <-\n",
    "    dataset$Player[which(dataset$BenchReps == BestBench)] %>%\n",
    "    as.character()\n",
    "    \n",
    "BestBenchAthletesCount <- length(BestBenchAthletes_cv)\n",
    "\n",
    "BestBenchAthletes <- \n",
    "    BestBenchAthletes_cv %>%\n",
    "    paste(collapse = \", \") %>%\n",
    "    stri_replace_last_fixed(\", \", \", and \")\n",
    "\n",
    "BestBenchSubtitle <- \n",
    "    paste0(\n",
    "        \"- The highest number of reps for the benchpress was \",\n",
    "        BestBench,\n",
    "        \". \",\n",
    "        BestBenchAthletes,\n",
    "        ifelse(BestBenchAthletesCount > 1, \" are \", \" is \"),\n",
    "        \"in this group\"\n",
    "    ) %>%\n",
    "    str_wrap(width = 70, exdent = 2)"
   ]
  },
  {
   "cell_type": "code",
   "execution_count": null,
   "metadata": {},
   "outputs": [],
   "source": [
    "    WorstBench <- min(dataset$BenchReps[dataset$BenchReps != 0])    \n",
    "\n",
    "    WorstBenchAthletes_cv <- \n",
    "        dataset$Player[which(dataset$BenchReps == WorstBench)] %>%\n",
    "        as.character()\n",
    "\n",
    "    WorstBenchAthletesCount <- length(WorstBenchAthletes_cv)\n",
    "\n",
    "    WorstBenchAthletes <- \n",
    "        WorstBenchAthletes_cv %>%\n",
    "        paste(collapse = \", \") %>%\n",
    "        stri_replace_last_fixed(\", \", \", and \")\n",
    "\n",
    "    WorstBenchSubtitle <- \n",
    "        paste0(\n",
    "            \"- The lowest number of reps for the benchpress was \",\n",
    "            WorstBench,\n",
    "            \". \",\n",
    "            WorstBenchAthletes,\n",
    "            ifelse(WorstBenchAthletesCount > 1, \" are \", \" is \"),\n",
    "            \"in this group\"\n",
    "        ) %>%\n",
    "        str_wrap(width = 70, exdent = 2)\n"
   ]
  },
  {
   "cell_type": "code",
   "execution_count": null,
   "metadata": {},
   "outputs": [],
   "source": [
    "    Best40YD <- min(dataset$`40YD`[dataset$`40YD` != 0])\n",
    "\n",
    "    Best40YDAthletes_cv <- \n",
    "        dataset$Player[which(dataset$`40YD` == Best40YD)] %>%\n",
    "        as.character()\n",
    "\n",
    "    Best40YDAthletesCount <- length(Best40YDAthletes_cv)\n",
    "\n",
    "    Best40YDAthletes <- \n",
    "        Best40YDAthletes_cv %>%\n",
    "        paste(collapse = \", \") %>%\n",
    "        stri_replace_last_fixed(\", \", \", and \")\n",
    "\n",
    "    Best40YDSubtitle <- \n",
    "        paste0(\n",
    "            \"- The fastest time for the 40YD was \",\n",
    "            Best40YD,\n",
    "            \". \",\n",
    "            Best40YDAthletes,\n",
    "            ifelse(Best40YDAthletesCount > 1, \" are \", \" is \"),\n",
    "            \"in this group\"\n",
    "        ) %>%\n",
    "        str_wrap(width = 70, exdent = 2)"
   ]
  },
  {
   "cell_type": "code",
   "execution_count": null,
   "metadata": {},
   "outputs": [],
   "source": [
    "    Worst40YD <- max(dataset$`40YD`)\n",
    "\n",
    "    Worst40YDAthletes_cv <- \n",
    "        dataset$Player[which(dataset$`40YD` == Worst40YD)] %>%\n",
    "        as.character()\n",
    "\n",
    "    Worst40YDAthletesCount <- length(Worst40YDAthletes_cv)\n",
    "\n",
    "    Worst40YDAthletes <- \n",
    "        Worst40YDAthletes_cv %>%\n",
    "        paste(collapse = \", \") %>%\n",
    "        stri_replace_last_fixed(\", \", \", and \")\n",
    "\n",
    "    Worst40YDSubtitle <- \n",
    "        paste0(\n",
    "            \"- The slowest time for the 40YD was \",\n",
    "            Worst40YD,\n",
    "            \". \",\n",
    "            Worst40YDAthletes,\n",
    "            ifelse(Worst40YDAthletesCount > 1, \" are \", \" is \"),\n",
    "            \"in this group\"\n",
    "        ) %>%\n",
    "        str_wrap(width = 70, exdent = 2)"
   ]
  },
  {
   "cell_type": "markdown",
   "metadata": {},
   "source": [
    "Combines all the subtitles elements from above to build the chart title"
   ]
  },
  {
   "cell_type": "code",
   "execution_count": null,
   "metadata": {},
   "outputs": [],
   "source": [
    "    chartsubtitle <-\n",
    "            paste0(\n",
    "                ifelse(BestBenchAthletesCount == 0,\"\",paste0(\"\\n\", BestBenchSubtitle)),\n",
    "                ifelse(WorstBenchAthletesCount == 0,\"\",paste0(\"\\n\", WorstBenchSubtitle)),\n",
    "                ifelse(Best40YDAthletesCount == 0,\"\",paste0(\"\\n\", Best40YDSubtitle)),\n",
    "                ifelse(Worst40YDAthletesCount == 0,\"\",paste0(\"\\n\", Worst40YDSubtitle)),\n",
    "                ifelse(No40YDSubtitleHaveAthletes == \"Y\",paste0(\"\\n\", No40YDSubtitle),\"\"),\n",
    "                ifelse(NoBenchPressSubtitleHaveAthletes == \"Y\",paste0(\"\\n\", NoBenchPressSubtitle),\"\"),\n",
    "                ifelse(No40YDAndBenchPressSubtitleHaveAthletes == \"Y\",paste0(\"\\n\", No40YDAndBenchPressSubtitle),\"\")\n",
    "            )\n",
    "    chartsubtitle"
   ]
  },
  {
   "cell_type": "code",
   "execution_count": null,
   "metadata": {},
   "outputs": [],
   "source": [
    "    chart_source <- \"Source:  https://www.pro-football-reference.com\""
   ]
  },
  {
   "cell_type": "markdown",
   "metadata": {},
   "source": [
    "What the chart looks like before the titles, subtitles, and caption"
   ]
  },
  {
   "cell_type": "code",
   "execution_count": null,
   "metadata": {},
   "outputs": [],
   "source": [
    "p"
   ]
  },
  {
   "cell_type": "markdown",
   "metadata": {},
   "source": [
    "What the chart looks like with the title, subtitle, and caption via the *labs* function"
   ]
  },
  {
   "cell_type": "code",
   "execution_count": null,
   "metadata": {},
   "outputs": [],
   "source": [
    "p <- p +\n",
    "     labs(\n",
    "         title = chart.title, \n",
    "         subtitle = chartsubtitle, \n",
    "         caption = chart_source\n",
    "     )\n",
    "p"
   ]
  },
  {
   "cell_type": "code",
   "execution_count": null,
   "metadata": {},
   "outputs": [],
   "source": [
    "p <- p +\n",
    "     theme(\n",
    "          plot.title = element_text(hjust = 0.5, size = 25)\n",
    "        , plot.subtitle = element_text(size = 15) \n",
    "        , panel.border = element_rect(colour = \"black\", size = 2, fill = NA)\n",
    "        , axis.title.x = element_text(hjust = 0.1, size = 18)\n",
    "        , axis.title.y = element_text(hjust = 0.1, size = 18)\n",
    "     )\n",
    "p"
   ]
  },
  {
   "cell_type": "code",
   "execution_count": null,
   "metadata": {},
   "outputs": [],
   "source": [
    "library(tidyverse)\n",
    "library(ggrepel)\n",
    "library(ggthemes)\n",
    "library(scales)\n",
    "library(stringi)\n",
    "\n",
    "if (length(unique(dataset$Year)) == 1 & length(unique(dataset$`Position Group`)) == 1) {\n",
    "  \n",
    "    selected_position <- unique(dataset$`Position Group`)\n",
    "    chart.title <- paste(min(dataset$Year), \"Combine Quad Chart for\", selected_position, sep = \" \")\n",
    "\n",
    "    No40YDSubtitle <- \n",
    "        as.character(dataset$Player[which(dataset$`40YD` == 0 & dataset$BenchReps != 0)]) %>%\n",
    "        paste(collapse = \", \") %>%\n",
    "        stri_replace_last_fixed(\", \", \", and \") %>%\n",
    "        paste0(\"- \", .,\" did not run the 40YD.\") %>%\n",
    "        str_wrap(width = 140, exdent = 2)\n",
    "    No40YDSubtitleHaveAthletes <-\n",
    "        length(dataset$Player[which(dataset$`40YD` == 0 & dataset$BenchReps != 0)]) %>%\n",
    "        {ifelse(. > 0, \"Y\", \"N\")}\n",
    "    \n",
    "    NoBenchPressSubtitle <- \n",
    "        as.character(dataset$Player[which(dataset$`40YD` != 0 & dataset$BenchReps == 0)]) %>%\n",
    "        paste(collapse = \", \") %>%\n",
    "        stri_replace_last_fixed(\", \", \", and \") %>%\n",
    "        paste0(\"- \", .,\" did not participate in the benchpress.\") %>%\n",
    "        str_wrap(width = 140, exdent = 2)\n",
    "    NoBenchPressSubtitleHaveAthletes <- \n",
    "        length(dataset$Player[which(dataset$`40YD` != 0 & dataset$BenchReps == 0)]) %>%\n",
    "        {ifelse(. > 0, \"Y\", \"N\")}\n",
    "    \n",
    "    No40YDAndBenchPressSubtitle <- \n",
    "        as.character(dataset$Player[which(dataset$`40YD` == 0 & dataset$BenchReps == 0)]) %>%\n",
    "        paste(collapse = \", \") %>%\n",
    "        stri_replace_last_fixed(\", \", \", and \") %>%\n",
    "        paste0(\"- \", .,\" did not participate in either the 40YD or in the benchpress.\") %>%\n",
    "        str_wrap(width = 140, exdent = 2)\n",
    "    No40YDAndBenchPressSubtitleHaveAthletes <- \n",
    "        length(dataset$Player[which(dataset$`40YD` == 0 & dataset$BenchReps == 0)]) %>%\n",
    "        {ifelse(. > 0, \"Y\", \"N\")}\n",
    "\n",
    "    graph_data <-\n",
    "        dataset %>%\n",
    "        filter(`40YD` != 0 & BenchReps != 0) %>%\n",
    "        mutate(\n",
    "            Scaled.40YD = \n",
    "                round(rescale(`40YD` * -1, to = c(-10, 10)), 1)\n",
    "            ,Scaled.BenchReps = \n",
    "                round(rescale(BenchReps, to = c(-10, 10)), 1)\n",
    "        )\n",
    "\n",
    "    BestBench <- max(dataset$BenchReps)\n",
    "    BestBenchAthletes_cv <- as.character(dataset$Player[which(dataset$BenchReps == BestBench)])\n",
    "    BestBenchAthletesCount <- length(BestBenchAthletes_cv)\n",
    "    BestBenchAthletes <- \n",
    "        BestBenchAthletes_cv %>%\n",
    "        paste(collapse = \", \") %>%\n",
    "        stri_replace_last_fixed(\", \", \", and \")\n",
    "    BestBenchSubtitle <- \n",
    "        paste0(\n",
    "            \"- The highest number of reps for the benchpress was \",\n",
    "            BestBench,\n",
    "            \". \",\n",
    "            BestBenchAthletes,\n",
    "            ifelse(BestBenchAthletesCount > 1, \" are \", \" is \"),\n",
    "            \"in this group\"\n",
    "        ) %>%\n",
    "        str_wrap(width = 140, exdent = 2)\n",
    "\n",
    "    WorstBench <- min(dataset$BenchReps[dataset$BenchReps != 0])   \n",
    "    WorstBenchAthletes_cv <- as.character(dataset$Player[which(dataset$BenchReps == WorstBench)])\n",
    "    WorstBenchAthletesCount <- length(WorstBenchAthletes_cv)\n",
    "    WorstBenchAthletes <- \n",
    "        WorstBenchAthletes_cv %>%\n",
    "        paste(collapse = \", \") %>%\n",
    "        stri_replace_last_fixed(\", \", \", and \")\n",
    "    WorstBenchSubtitle <- \n",
    "        paste0(\n",
    "            \"- The lowest number of reps for the benchpress was \",\n",
    "            WorstBench,\n",
    "            \". \",\n",
    "            WorstBenchAthletes,\n",
    "            ifelse(WorstBenchAthletesCount > 1, \" are \", \" is \"),\n",
    "            \"in this group\"\n",
    "        ) %>%\n",
    "        str_wrap(width = 140, exdent = 2)\n",
    "\n",
    "    Best40YD <- min(dataset$`40YD`[dataset$`40YD` != 0])\n",
    "    Best40YDAthletes_cv <- as.character(dataset$Player[which(dataset$`40YD` == Best40YD)])\n",
    "    Best40YDAthletesCount <- length(Best40YDAthletes_cv)\n",
    "    Best40YDAthletes <- \n",
    "        Best40YDAthletes_cv %>%\n",
    "        paste(collapse = \", \") %>%\n",
    "        stri_replace_last_fixed(\", \", \", and \")\n",
    "    Best40YDSubtitle <- \n",
    "        paste0(\n",
    "            \"- The fastest time for the 40YD was \",\n",
    "            Best40YD,\n",
    "            \". \",\n",
    "            Best40YDAthletes,\n",
    "            ifelse(Best40YDAthletesCount > 1, \" are \", \" is \"),\n",
    "            \"in this group\"\n",
    "        ) %>%\n",
    "        str_wrap(width = 140, exdent = 2)\n",
    "\n",
    "    Worst40YD <- max(dataset$`40YD`)\n",
    "    Worst40YDAthletes_cv <- as.character(dataset$Player[which(dataset$`40YD` == Worst40YD)])\n",
    "    Worst40YDAthletesCount <- length(Worst40YDAthletes_cv)\n",
    "    Worst40YDAthletes <- \n",
    "        Worst40YDAthletes_cv %>%\n",
    "        paste(collapse = \", \") %>%\n",
    "        stri_replace_last_fixed(\", \", \", and \")\n",
    "    Worst40YDSubtitle <- \n",
    "        paste0(\n",
    "            \"- The slowest time for the 40YD was \",\n",
    "            Worst40YD,\n",
    "            \". \",\n",
    "            Worst40YDAthletes,\n",
    "            ifelse(Worst40YDAthletesCount > 1, \" are \", \" is \"),\n",
    "            \"in this group\"\n",
    "        ) %>%\n",
    "        str_wrap(width = 140, exdent = 2)\n",
    "    \n",
    "    chartsubtitle <-\n",
    "            paste0(\n",
    "                ifelse(BestBenchAthletesCount == 0,\"\",paste0(\"\\n\", BestBenchSubtitle)),\n",
    "                ifelse(WorstBenchAthletesCount == 0,\"\",paste0(\"\\n\", WorstBenchSubtitle)),\n",
    "                ifelse(Best40YDAthletesCount == 0,\"\",paste0(\"\\n\", Best40YDSubtitle)),\n",
    "                ifelse(Worst40YDAthletesCount == 0,\"\",paste0(\"\\n\", Worst40YDSubtitle)),\n",
    "                ifelse(No40YDSubtitleHaveAthletes == \"Y\",paste0(\"\\n\", No40YDSubtitle),\"\"),\n",
    "                ifelse(NoBenchPressSubtitleHaveAthletes == \"Y\",paste0(\"\\n\", NoBenchPressSubtitle),\"\"),\n",
    "                ifelse(No40YDAndBenchPressSubtitleHaveAthletes == \"Y\",paste0(\"\\n\", No40YDAndBenchPressSubtitle),\"\")\n",
    "            )\n",
    "    \n",
    "    chart_source <- \"Source:  https://www.pro-football-reference.com\"\n",
    "\n",
    "    p <- ggplot(graph_data, aes(x = Scaled.BenchReps, y = Scaled.40YD, col = Position)) +\n",
    "         geom_point() +\n",
    "         geom_label_repel(aes(label = Player), size = 4, show.legend = FALSE) +\n",
    "         geom_hline(yintercept = 0) +\n",
    "         geom_vline(xintercept = 0) +\n",
    "\n",
    "         # quad labels\n",
    "         annotate(\"text\", x = -5, y = -11, label = \"Average\", alpha = 0.2, size = 6) +\n",
    "         annotate(\"text\", x = -5, y = 11, label = \"Fast\", alpha = 0.2, size = 6) +\n",
    "         annotate(\"text\", x = 5, y = -11, label = \"Strong\", alpha = 0.2, size = 6) +\n",
    "         annotate(\"text\", x = 5, y = 11, label = \"Beast Mode\", alpha = 0.2, size = 6) +\n",
    "\n",
    "         # Squares for quad labels\n",
    "         annotate(\"rect\", xmin = -3.5, xmax = -6.5, ymin = -11.5, ymax = -10.5, alpha = .2) +\n",
    "         annotate(\"rect\", xmin = -3.5, xmax = -6.5, ymin = 10.5, ymax = 11.5, alpha = .2) +\n",
    "         annotate(\"rect\", xmin = 3.5, xmax = 6.5, ymin = -11.5, ymax = -10.5, alpha = .2) +\n",
    "         annotate(\"rect\", xmin = 3.5, xmax = 6.5, ymin = 10.5, ymax = 11.5, alpha = .2) +\n",
    "\n",
    "         # Shade lower left quadrant\n",
    "         annotate(\"rect\", xmin = -Inf, xmax = 0.0, ymin = -Inf, ymax = 0, alpha = 0.1, fill = \"lightskyblue\") +\n",
    "        \n",
    "         # Shade upper right quadrant\n",
    "         annotate(\"rect\", xmin = 0.0, xmax = Inf, ymin = 0.0, ymax = Inf, alpha = 0.1, fill = \"lightskyblue\") +\n",
    "        \n",
    "         # Titles\n",
    "         xlab(bquote(\"Strength\" ~ symbol('\\256'))) +\n",
    "         ylab(bquote(\"Speed\" ~ symbol('\\256'))) +\n",
    "         #ggtitle(chart.title, subtitle = chartsubtitle) +\n",
    "         labs(title = chart.title, subtitle = chartsubtitle, caption = chart_source) +\n",
    "\n",
    "         # Prettying things up\n",
    "         theme_tufte() +\n",
    "         theme(\n",
    "              plot.title = element_text(hjust = 0.5, size = 25)\n",
    "            , plot.subtitle = element_text(size = 15) \n",
    "            , panel.border = element_rect(colour = \"black\", size = 2, fill = NA)\n",
    "            , axis.title.x = element_text(hjust = 0.1, size = 18)\n",
    "            , axis.title.y = element_text(hjust = 0.1, size = 18)\n",
    "         ) +\n",
    "         scale_x_continuous(labels = NULL, breaks = NULL) +\n",
    "         scale_y_continuous(labels = NULL, breaks = NULL) \n",
    "    \n",
    "         p\n",
    "\n",
    "} else {\n",
    "    p <- ggplot(dataset, aes(x = BenchReps, y = `40YD`)) +\n",
    "         geom_blank() +\n",
    "         scale_x_continuous(\n",
    "              labels = NULL\n",
    "            , breaks = NULL\n",
    "        ) +\n",
    "         scale_y_continuous(\n",
    "              labels = NULL\n",
    "            , breaks = NULL\n",
    "         ) +\n",
    "         labs(x = NULL, y = NULL) +\n",
    "         theme_classic()\n",
    "    p\n",
    "}"
   ]
  }
 ],
 "metadata": {
  "kernelspec": {
   "display_name": "R",
   "language": "R",
   "name": "ir"
  },
  "language_info": {
   "codemirror_mode": "r",
   "file_extension": ".r",
   "mimetype": "text/x-r-source",
   "name": "R",
   "pygments_lexer": "r",
   "version": "3.5.0"
  }
 },
 "nbformat": 4,
 "nbformat_minor": 2
}
